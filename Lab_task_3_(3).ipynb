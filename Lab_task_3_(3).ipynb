{
  "nbformat": 4,
  "nbformat_minor": 0,
  "metadata": {
    "colab": {
      "provenance": []
    },
    "kernelspec": {
      "name": "python3",
      "display_name": "Python 3"
    },
    "language_info": {
      "name": "python"
    }
  },
  "cells": [
    {
      "cell_type": "markdown",
      "source": [],
      "metadata": {
        "id": "iVf6GYr_1pjj"
      }
    },
    {
      "cell_type": "markdown",
      "source": [
        "# Lab Task 01"
      ],
      "metadata": {
        "id": "DR3RvooloecS"
      }
    },
    {
      "cell_type": "markdown",
      "source": [
        "Reshape a 1D NumPy array into a 2D array with dimensions (3, 4).\n",
        "\n",
        "Concatenate two NumPy arrays horizontally and vertically."
      ],
      "metadata": {
        "id": "Oi-yFvItoWzc"
      }
    },
    {
      "cell_type": "code",
      "source": [
        "#code here\n",
        "import numpy as np\n",
        "arr=np.array([1, 2, 3, 4, 5, 6, 7, 8, 9, 10, 11, 12])\n",
        "print(arr)\n",
        "print(\"After Reshape\")\n",
        "newarr=arr.reshape(3,4)\n",
        "newarr"
      ],
      "metadata": {
        "id": "c379PMYOobDK",
        "outputId": "cd730a97-c335-4d8a-f47f-e063ac6a3d72",
        "colab": {
          "base_uri": "https://localhost:8080/"
        }
      },
      "execution_count": 12,
      "outputs": [
        {
          "output_type": "stream",
          "name": "stdout",
          "text": [
            "[ 1  2  3  4  5  6  7  8  9 10 11 12]\n",
            "After Reshape\n"
          ]
        },
        {
          "output_type": "execute_result",
          "data": {
            "text/plain": [
              "array([[ 1,  2,  3,  4],\n",
              "       [ 5,  6,  7,  8],\n",
              "       [ 9, 10, 11, 12]])"
            ]
          },
          "metadata": {},
          "execution_count": 12
        }
      ]
    },
    {
      "cell_type": "code",
      "source": [
        "arr1=np.array([[1,2,3],[5,6,7]])\n",
        "arr2=np.array([[2,3,4],[8,7,6]])\n",
        "vercon=np.concatenate((arr1, arr2), axis=0)\n",
        "print(vercon)\n",
        "print()\n",
        "horcon=np.concatenate((arr1, arr2), axis=1)\n",
        "print(horcon)"
      ],
      "metadata": {
        "id": "GafajK502PL6",
        "outputId": "d5f397e8-f53b-49bf-cdd1-39cb7248a784",
        "colab": {
          "base_uri": "https://localhost:8080/"
        }
      },
      "execution_count": 15,
      "outputs": [
        {
          "output_type": "stream",
          "name": "stdout",
          "text": [
            "[[1 2 3]\n",
            " [5 6 7]\n",
            " [2 3 4]\n",
            " [8 7 6]]\n",
            "\n",
            "[[1 2 3 2 3 4]\n",
            " [5 6 7 8 7 6]]\n"
          ]
        }
      ]
    },
    {
      "cell_type": "markdown",
      "source": [
        "# Lab Task 02"
      ],
      "metadata": {
        "id": "Dv9DtQ3jp6mq"
      }
    },
    {
      "cell_type": "markdown",
      "source": [
        "\n",
        "## Email Classification\n",
        "Develope a tool which will classify an email.\n",
        "\n",
        "### Tasks:\n",
        "* Create a function classify_emails that takes a list of emails as an argument.\n",
        "* Inside the function, categorize emails into \"Important,\" \"Promotions,\" and \"Spam\" based on keywords and content analysis.\n",
        "* Loop through the emails and identify keywords to determine their category.\n",
        "* If an email contains keywords indicating importance, assign it as \"Important.\"\n",
        "* If an email contains keywords related to promotions or deals, assign it as \"Promotions.\"\n",
        "* If an email is suspected to be spam based on certain keywords or patterns, assign it as \"Spam.\"\n",
        "* Return three lists of emails for each category.\n",
        "* Print the lists."
      ],
      "metadata": {
        "id": "2i6-zm_1ZAdn"
      }
    },
    {
      "cell_type": "code",
      "source": [
        "#code here\n",
        "def classify_emails(emails):\n",
        "    important_keywords = ['urgent', 'important', 'announcement']\n",
        "    promotions_keywords = ['sale', 'discount', 'promotion']\n",
        "    spam_keywords = ['free', 'lottery', 'won', 'win']\n",
        "\n",
        "    important_list = []\n",
        "    promotions_list = []\n",
        "    spam_list = []\n",
        "\n",
        "    for email in emails:\n",
        "        if any(keyword in email.lower() for keyword in important_keywords):\n",
        "            important_list.append(email)\n",
        "        elif any(keyword in email.lower() for keyword in promotions_keywords):\n",
        "            promotions_list.append(email)\n",
        "        elif any(keyword in email.lower() for keyword in spam_keywords):\n",
        "            spam_list.append(email)\n",
        "\n",
        "    return important_list, promotions_list, spam_list\n",
        "\n",
        "emails = [\n",
        "    \"Urgent: Please review the proposal\",\n",
        "    \"Get 50% off on all items this Eid!\",\n",
        "    \"Congratulations! You've won a lottery\",\n",
        "    \"Important: Your account needs verification\",\n",
        "    \"Eid discount just for you!\",\n",
        "    \"Cheap Iphone for sale - limited time offer\"\n",
        "]\n",
        "\n",
        "important_emails, promotions_emails, spam_emails = classify_emails(emails)\n",
        "\n",
        "print(\"Important emails:\")\n",
        "for email in important_emails:\n",
        "    print(\"-\", email)\n",
        "\n",
        "print(\"\\nPromotions emails:\")\n",
        "for email in promotions_emails:\n",
        "    print(\"-\", email)\n",
        "\n",
        "print(\"\\nSpam emails:\")\n",
        "for email in spam_emails:\n",
        "    print(\"-\", email)\n"
      ],
      "metadata": {
        "id": "SnCGPkq-o84Z",
        "outputId": "834f717e-a9ce-4619-bb8d-082e2b60d2d9",
        "colab": {
          "base_uri": "https://localhost:8080/"
        }
      },
      "execution_count": 16,
      "outputs": [
        {
          "output_type": "stream",
          "name": "stdout",
          "text": [
            "Important emails:\n",
            "- Urgent: Please review the proposal\n",
            "- Important: Your account needs verification\n",
            "\n",
            "Promotions emails:\n",
            "- Eid discount just for you!\n",
            "- Cheap Iphone for sale - limited time offer\n",
            "\n",
            "Spam emails:\n",
            "- Congratulations! You've won a lottery\n"
          ]
        }
      ]
    },
    {
      "cell_type": "markdown",
      "source": [
        "# Lab Task 03"
      ],
      "metadata": {
        "id": "amtV-GLWpCC7"
      }
    },
    {
      "cell_type": "markdown",
      "source": [
        "## English-Spanish Dictionary\n",
        "You are creating a basic English-Spanish dictionary that allows users to look up English words and find their Spanish translations.\n",
        "\n",
        "\n",
        "### Tasks\n",
        "* Create a dictionary where English words are keys and their Spanish translations are values.\n",
        "* Ask the user to input an English word.\n",
        "* Check if the word exists in the dictionary.\n",
        "* If the word exists, print its Spanish translation.\n",
        "* If the word does not exist, inform the user that the translation is not available.\n",
        "* Implement a loop that allows the user to keep looking up words until they choose to exit.\n"
      ],
      "metadata": {
        "id": "M2Zg-XsUpC72"
      }
    },
    {
      "cell_type": "code",
      "source": [
        "#code here\n",
        "english_spanish = {\n",
        "\"house\": \"casa\",\n",
        "\"car\": \"coche\",\n",
        "\"tree\": \"árbol\",\n",
        "\"water\": \"agua\",\n",
        "\"sun\": \"sol\",\n",
        "\"moon\": \"luna\",\n",
        "\"friend\": \"amigo\",\n",
        "\"family\": \"familia\",\n",
        "\"food\": \"comida\",\n",
        "\"school\": \"escuela\",\n",
        "\"teacher\": \"profesor/profesora\",\n",
        "\"student\": \"estudiante\",\n",
        "\"computer\": \"computadora\",\n",
        "\"phone\": \"teléfono\",\n",
        "\"music\": \"música\",\n",
        "\"movie\": \"película\",\n",
        "\"beach\": \"playa\",\n",
        "\"mountain\": \"montaña\",\n",
        "\"city\": \"ciudad\",\n",
        "\"shirt\": \"camisa\",\n",
        "\"shoes\": \"zapatos\",\n",
        "\"table\": \"mesa\",\n",
        "\"chair\": \"silla\",\n",
        "\"bed\": \"cama\",\n",
        "\"window\": \"ventana\",\n",
        "\"door\": \"puerta\",\n",
        "\"bathroom\": \"baño\",\n",
        "\"kitchen\": \"cocina\",\n",
        "\"to eat\": \"comer\",\n",
        "\"to drink\": \"beber\",\n",
        "\"to sleep\": \"dormir\",\n",
        "\"to talk\": \"hablar\",\n",
        "\"to listen\": \"escuchar\",\n",
        "\"to read\": \"leer\",\n",
        "\"to write\": \"escribir\",\n",
        "\"to walk\": \"caminar\",\n",
        "\"to run\": \"correr\",\n",
        "\"to swim\": \"nadar\",\n",
        "\"to dance\": \"bailar\",\n",
        "\"to sing\": \"cantar\",\n",
        "\"to laugh\": \"reír\",\n",
        "\"to cry\": \"llorar\",\n",
        "\"to love\": \"amar\",\n",
        "\"to hate\": \"odiar\",\n",
        "\"to learn\": \"aprender\",\n",
        "\"to teach\": \"enseñar\",\n",
        "\"to work\": \"trabajar\",\n",
        "\"to play\": \"jugar\",\n",
        "\"to watch\": \"ver\",\n",
        "\"to buy\": \"comprar\",\n",
        "\"to sell\": \"vender\",\n",
        "\"to cook\": \"cocinar\",\n",
        "\"to clean\": \"limpiar\",\n",
        "\"to drive\": \"conducir\",\n",
        "\"to fly\": \"volar\",\n",
        "\"to travel\": \"viajar\",\n",
        "\"to study\": \"estudiar\",\n",
        "\"to understand\": \"entender\",\n",
        "\"to speak\": \"hablar\",\n",
        "\"to listen\": \"escuchar\",\n",
        "\"to read\": \"leer\",\n",
        "\"to write\": \"escribir\",\n",
        "\"to walk\": \"caminar\",\n",
        "\"to run\": \"correr\",\n",
        "\"to swim\": \"nadar\",\n",
        "\"to dance\": \"bailar\",\n",
        "\"to sing\": \"cantar\",\n",
        "\"to laugh\": \"reír\",\n",
        "\"to cry\": \"llorar\",\n",
        "\"to love\": \"amar\",\n",
        "\"to hate\": \"odiar\",\n",
        "\"to learn\": \"aprender\",\n",
        "\"to teach\": \"enseñar\",\n",
        "\"to work\": \"trabajar\",\n",
        "\"to play\": \"jugar\",\n",
        "\"to watch\": \"ver\",\n",
        "\"to buy\": \"comprar\",\n",
        "\"to sell\": \"vender\",\n",
        "\"to cook\": \"cocinar\",\n",
        "\"to clean\": \"limpiar\",\n",
        "\"to drive\": \"conducir\",\n",
        "\"to fly\": \"volar\",\n",
        "\"to travel\": \"viajar\",\n",
        "\"to study\": \"estudiar\",\n",
        "\"to understand\": \"entender\"\n",
        "}\n",
        "\n",
        "def translate_word(word):\n",
        "    if word in english_spanish:\n",
        "        return english_spanish[word]\n",
        "    else:\n",
        "        return \"Translation not available.\"\n",
        "\n",
        "while True:\n",
        "    word = input(\"Enter an English word or type 'exit' to quit the dictionary: \")\n",
        "    word = word.lower()\n",
        "    if word == 'exit':\n",
        "        print(\"Dictionary Closed.\")\n",
        "        break\n",
        "\n",
        "    translation = translate_word(word)\n",
        "    print(f\"The Spanish translation of '{word}' is: {translation}\")\n"
      ],
      "metadata": {
        "id": "7RKtYbMZpJdh",
        "outputId": "7f414c30-8701-4c0d-a3b2-a91df2659418",
        "colab": {
          "base_uri": "https://localhost:8080/"
        }
      },
      "execution_count": 19,
      "outputs": [
        {
          "output_type": "stream",
          "name": "stdout",
          "text": [
            "Enter an English word or type 'exit' to quit the dictionary: book\n",
            "The Spanish translation of 'book' is: Translation not available.\n",
            "Enter an English word or type 'exit' to quit the dictionary: love\n",
            "The Spanish translation of 'love' is: Translation not available.\n",
            "Enter an English word or type 'exit' to quit the dictionary: to love\n",
            "The Spanish translation of 'to love' is: amar\n",
            "Enter an English word or type 'exit' to quit the dictionary: exit\n",
            "Dictionary Closed.\n"
          ]
        }
      ]
    },
    {
      "cell_type": "markdown",
      "source": [
        "# Lab Task 04"
      ],
      "metadata": {
        "id": "h_8wOMWitspv"
      }
    },
    {
      "cell_type": "markdown",
      "source": [
        "dataset link : https://raw.githubusercontent.com/TirendazAcademy/PANDAS-TUTORIAL/main/DataSets/vgsalesGlobale.csv\n",
        "#Exercise\n",
        "Use the dataset of Game, we have explored earlier and perform following operations.\n",
        "\n",
        "* Calculate the total global sales for all games in the dataset.\n",
        "* Find the game with the highest global sales.\n",
        "* Determine the average sales for each region (NA_Sales, EU_Sales, JP_Sales, Other_Sales).\n",
        "* Find the top 5 most popular game genres based on global sales.\n",
        "* Calculate the total sales for each genre in each region and find the most popular genre in North America (NA_Sales).\n",
        "* Display last 10 rows.\n",
        "* Determine the top 3 gaming platforms with the highest global sales.\n",
        "* Calculate the market share (percentage of global sales) for each genre.\n",
        "* Calculate the correlation coefficient between NA_Sales and EU_Sales. (.corr function)"
      ],
      "metadata": {
        "id": "Qq4VH1Jkts32"
      }
    },
    {
      "cell_type": "code",
      "source": [
        "import pandas as pd\n",
        "import numpy as np\n",
        "\n",
        "path = \"https://raw.githubusercontent.com/TirendazAcademy/PANDAS-TUTORIAL/main/DataSets/vgsalesGlobale.csv\"\n",
        "df = pd.read_csv(path)\n",
        "print(df)"
      ],
      "metadata": {
        "id": "OJ_pRcqqHNXE",
        "outputId": "ee5fbc01-3c56-497a-d763-f4adbf8c20a4",
        "colab": {
          "base_uri": "https://localhost:8080/"
        }
      },
      "execution_count": 22,
      "outputs": [
        {
          "output_type": "stream",
          "name": "stdout",
          "text": [
            "        Rank                                              Name Platform  \\\n",
            "0          1                                        Wii Sports      Wii   \n",
            "1          2                                 Super Mario Bros.      NES   \n",
            "2          3                                    Mario Kart Wii      Wii   \n",
            "3          4                                 Wii Sports Resort      Wii   \n",
            "4          5                          Pokemon Red/Pokemon Blue       GB   \n",
            "...      ...                                               ...      ...   \n",
            "16593  16596                Woody Woodpecker in Crazy Castle 5      GBA   \n",
            "16594  16597                     Men in Black II: Alien Escape       GC   \n",
            "16595  16598  SCORE International Baja 1000: The Official Game      PS2   \n",
            "16596  16599                                        Know How 2       DS   \n",
            "16597  16600                                  Spirits & Spells      GBA   \n",
            "\n",
            "         Year         Genre   Publisher  NA_Sales  EU_Sales  JP_Sales  \\\n",
            "0      2006.0        Sports    Nintendo     41.49     29.02      3.77   \n",
            "1      1985.0      Platform    Nintendo     29.08      3.58      6.81   \n",
            "2      2008.0        Racing    Nintendo     15.85     12.88      3.79   \n",
            "3      2009.0        Sports    Nintendo     15.75     11.01      3.28   \n",
            "4      1996.0  Role-Playing    Nintendo     11.27      8.89     10.22   \n",
            "...       ...           ...         ...       ...       ...       ...   \n",
            "16593  2002.0      Platform       Kemco      0.01      0.00      0.00   \n",
            "16594  2003.0       Shooter  Infogrames      0.01      0.00      0.00   \n",
            "16595  2008.0        Racing  Activision      0.00      0.00      0.00   \n",
            "16596  2010.0        Puzzle    7G//AMES      0.00      0.01      0.00   \n",
            "16597  2003.0      Platform     Wanadoo      0.01      0.00      0.00   \n",
            "\n",
            "       Other_Sales  Global_Sales  \n",
            "0             8.46         82.74  \n",
            "1             0.77         40.24  \n",
            "2             3.31         35.82  \n",
            "3             2.96         33.00  \n",
            "4             1.00         31.37  \n",
            "...            ...           ...  \n",
            "16593         0.00          0.01  \n",
            "16594         0.00          0.01  \n",
            "16595         0.00          0.01  \n",
            "16596         0.00          0.01  \n",
            "16597         0.00          0.01  \n",
            "\n",
            "[16598 rows x 11 columns]\n"
          ]
        }
      ]
    },
    {
      "cell_type": "code",
      "source": [
        "totalsales = df['Global_Sales'].sum()\n",
        "print(\"Total global sales:\", totalsales)"
      ],
      "metadata": {
        "id": "31gV9yQsHj7y",
        "outputId": "844d0dd0-f5f5-4404-c469-e6041d2cf928",
        "colab": {
          "base_uri": "https://localhost:8080/"
        }
      },
      "execution_count": 36,
      "outputs": [
        {
          "output_type": "stream",
          "name": "stdout",
          "text": [
            "Total global sales: 8920.44\n"
          ]
        }
      ]
    },
    {
      "cell_type": "code",
      "source": [
        "gamesale = df.loc[df['Global_Sales'].idxmax()]\n",
        "print(\"Game with the highest global sales:\\n\",gamesale)\n"
      ],
      "metadata": {
        "id": "_w6OzjAkHomf",
        "outputId": "54ef9578-125b-4722-d1e4-07eaba5b0c13",
        "colab": {
          "base_uri": "https://localhost:8080/"
        }
      },
      "execution_count": 35,
      "outputs": [
        {
          "output_type": "stream",
          "name": "stdout",
          "text": [
            "Game with the highest global sales:\n",
            " Rank                     1\n",
            "Name            Wii Sports\n",
            "Platform               Wii\n",
            "Year                2006.0\n",
            "Genre               Sports\n",
            "Publisher         Nintendo\n",
            "NA_Sales             41.49\n",
            "EU_Sales             29.02\n",
            "JP_Sales              3.77\n",
            "Other_Sales           8.46\n",
            "Global_Sales         82.74\n",
            "Name: 0, dtype: object\n"
          ]
        }
      ]
    },
    {
      "cell_type": "code",
      "source": [
        "average = df[['NA_Sales', 'EU_Sales', 'JP_Sales', 'Other_Sales']].mean()\n",
        "print(\"Average sales for each region:\\n\",average)"
      ],
      "metadata": {
        "id": "7sFcGJPqH40G",
        "outputId": "e79500b8-6f0f-47cc-c9cf-0b552b5d5a27",
        "colab": {
          "base_uri": "https://localhost:8080/"
        }
      },
      "execution_count": 37,
      "outputs": [
        {
          "output_type": "stream",
          "name": "stdout",
          "text": [
            "Average sales for each region:\n",
            " NA_Sales       0.264667\n",
            "EU_Sales       0.146652\n",
            "JP_Sales       0.077782\n",
            "Other_Sales    0.048063\n",
            "dtype: float64\n"
          ]
        }
      ]
    },
    {
      "cell_type": "code",
      "source": [
        "genres = df.groupby('Genre')['Global_Sales'].sum().nlargest(5)\n",
        "print(\"Top 5 most popular game genres based on global sales:\\n\",genres)"
      ],
      "metadata": {
        "id": "fif0kQRbIDZ3",
        "outputId": "ac737c87-6c77-4ae2-ba76-2edc32698fae",
        "colab": {
          "base_uri": "https://localhost:8080/"
        }
      },
      "execution_count": 28,
      "outputs": [
        {
          "output_type": "stream",
          "name": "stdout",
          "text": [
            "Top 5 most popular game genres based on global sales:\n",
            " Genre\n",
            "Action          1751.18\n",
            "Sports          1330.93\n",
            "Shooter         1037.37\n",
            "Role-Playing     927.37\n",
            "Platform         831.37\n",
            "Name: Global_Sales, dtype: float64\n"
          ]
        }
      ]
    },
    {
      "cell_type": "code",
      "source": [
        "total = df.groupby('Genre').agg({'NA_Sales': 'sum', 'EU_Sales': 'sum', 'JP_Sales': 'sum', 'Other_Sales': 'sum'})\n",
        "print(\"Total sales for each genre in each region:\\n\",total)"
      ],
      "metadata": {
        "id": "39myWZRxIR7v",
        "outputId": "06470657-37cd-4961-f3a9-c6d933d5351d",
        "colab": {
          "base_uri": "https://localhost:8080/"
        }
      },
      "execution_count": 29,
      "outputs": [
        {
          "output_type": "stream",
          "name": "stdout",
          "text": [
            "Total sales for each genre in each region:\n",
            "               NA_Sales  EU_Sales  JP_Sales  Other_Sales\n",
            "Genre                                                  \n",
            "Action          877.83    525.00    159.95       187.38\n",
            "Adventure       105.80     64.13     52.07        16.81\n",
            "Fighting        223.59    101.32     87.35        36.68\n",
            "Misc            410.24    215.98    107.76        75.32\n",
            "Platform        447.05    201.63    130.77        51.59\n",
            "Puzzle          123.78     50.78     57.31        12.55\n",
            "Racing          359.42    238.39     56.69        77.27\n",
            "Role-Playing    327.28    188.06    352.31        59.61\n",
            "Shooter         582.60    313.27     38.28       102.69\n",
            "Simulation      183.31    113.38     63.70        31.52\n",
            "Sports          683.35    376.85    135.37       134.97\n",
            "Strategy         68.70     45.34     49.46        11.36\n"
          ]
        }
      ]
    },
    {
      "cell_type": "code",
      "source": [
        "popular_genre = total['NA_Sales'].idxmax()\n",
        "print(\"Most popular genre in North America (NA_Sales):\", popular_genre)"
      ],
      "metadata": {
        "id": "-VjiLRwNJHOm",
        "outputId": "b563342e-1e15-431e-fad9-bbf785211254",
        "colab": {
          "base_uri": "https://localhost:8080/"
        }
      },
      "execution_count": 32,
      "outputs": [
        {
          "output_type": "stream",
          "name": "stdout",
          "text": [
            "Most popular genre in North America (NA_Sales): Action\n"
          ]
        }
      ]
    },
    {
      "cell_type": "code",
      "source": [
        "print('Last 10 rows: \\n',df.tail(10))"
      ],
      "metadata": {
        "id": "q2P0G5ciJakp",
        "outputId": "97edf713-7e67-45bb-f9f3-776385b3d045",
        "colab": {
          "base_uri": "https://localhost:8080/"
        }
      },
      "execution_count": 33,
      "outputs": [
        {
          "output_type": "stream",
          "name": "stdout",
          "text": [
            "Last 10 rows: \n",
            "         Rank                                               Name Platform  \\\n",
            "16588  16591                                   Mega Brain Boost       DS   \n",
            "16589  16592  Chou Ezaru wa Akai Hana: Koi wa Tsuki ni Shiru...      PSV   \n",
            "16590  16593  Eiyuu Densetsu: Sora no Kiseki Material Collec...      PSP   \n",
            "16591  16594                                Myst IV: Revelation       PC   \n",
            "16592  16595                                           Plushees       DS   \n",
            "16593  16596                 Woody Woodpecker in Crazy Castle 5      GBA   \n",
            "16594  16597                      Men in Black II: Alien Escape       GC   \n",
            "16595  16598   SCORE International Baja 1000: The Official Game      PS2   \n",
            "16596  16599                                         Know How 2       DS   \n",
            "16597  16600                                   Spirits & Spells      GBA   \n",
            "\n",
            "         Year         Genre              Publisher  NA_Sales  EU_Sales  \\\n",
            "16588  2008.0        Puzzle  Majesco Entertainment      0.01      0.00   \n",
            "16589  2016.0        Action        dramatic create      0.00      0.00   \n",
            "16590  2007.0  Role-Playing     Falcom Corporation      0.00      0.00   \n",
            "16591  2004.0     Adventure                Ubisoft      0.01      0.00   \n",
            "16592  2008.0    Simulation              Destineer      0.01      0.00   \n",
            "16593  2002.0      Platform                  Kemco      0.01      0.00   \n",
            "16594  2003.0       Shooter             Infogrames      0.01      0.00   \n",
            "16595  2008.0        Racing             Activision      0.00      0.00   \n",
            "16596  2010.0        Puzzle               7G//AMES      0.00      0.01   \n",
            "16597  2003.0      Platform                Wanadoo      0.01      0.00   \n",
            "\n",
            "       JP_Sales  Other_Sales  Global_Sales  \n",
            "16588      0.00          0.0          0.01  \n",
            "16589      0.01          0.0          0.01  \n",
            "16590      0.01          0.0          0.01  \n",
            "16591      0.00          0.0          0.01  \n",
            "16592      0.00          0.0          0.01  \n",
            "16593      0.00          0.0          0.01  \n",
            "16594      0.00          0.0          0.01  \n",
            "16595      0.00          0.0          0.01  \n",
            "16596      0.00          0.0          0.01  \n",
            "16597      0.00          0.0          0.01  \n"
          ]
        }
      ]
    },
    {
      "cell_type": "code",
      "source": [
        "top_plat = df.groupby('Platform')['Global_Sales'].sum().nlargest(3)\n",
        "print(\"Top 3 gaming platforms with the highest global sales:\\n\",top_plat)"
      ],
      "metadata": {
        "id": "ZyCSxEKaJkgY",
        "outputId": "bee40def-20f9-47fb-aa43-907b770b4707",
        "colab": {
          "base_uri": "https://localhost:8080/"
        }
      },
      "execution_count": 34,
      "outputs": [
        {
          "output_type": "stream",
          "name": "stdout",
          "text": [
            "Top 3 gaming platforms with the highest global sales:\n",
            " Platform\n",
            "PS2     1255.64\n",
            "X360     979.96\n",
            "PS3      957.84\n",
            "Name: Global_Sales, dtype: float64\n"
          ]
        }
      ]
    },
    {
      "cell_type": "code",
      "source": [
        "totalsales_genre = df.groupby('Genre')['Global_Sales'].sum()\n",
        "market_share = (totalsales_genre / totalsales) * 100\n",
        "print(\"Market share for each genre:\\n\", market_share)"
      ],
      "metadata": {
        "id": "w6WWueJSJzp_",
        "outputId": "33c6eca1-c93c-48a7-c94b-fbe4ab650ac0",
        "colab": {
          "base_uri": "https://localhost:8080/"
        }
      },
      "execution_count": 39,
      "outputs": [
        {
          "output_type": "stream",
          "name": "stdout",
          "text": [
            "Market share for each genre:\n",
            " Genre\n",
            "Action          19.631094\n",
            "Adventure        2.679688\n",
            "Fighting         5.032375\n",
            "Misc             9.079821\n",
            "Platform         9.319832\n",
            "Puzzle           2.745941\n",
            "Racing           8.206322\n",
            "Role-Playing    10.396012\n",
            "Shooter         11.629135\n",
            "Simulation       4.396644\n",
            "Sports          14.920004\n",
            "Strategy         1.963132\n",
            "Name: Global_Sales, dtype: float64\n"
          ]
        }
      ]
    },
    {
      "cell_type": "code",
      "source": [
        "cor_coef = df['NA_Sales'].corr(df['EU_Sales'])\n",
        "print(\"Correlation coefficient between NA_Sales and EU_Sales:\", cor_coef)\n"
      ],
      "metadata": {
        "id": "KCEkVrdWDKLx",
        "outputId": "c0457f7f-c9f2-4b56-a223-47b27cb037cb",
        "colab": {
          "base_uri": "https://localhost:8080/"
        }
      },
      "execution_count": 40,
      "outputs": [
        {
          "output_type": "stream",
          "name": "stdout",
          "text": [
            "Correlation coefficient between NA_Sales and EU_Sales: 0.7677267483702631\n"
          ]
        }
      ]
    },
    {
      "cell_type": "markdown",
      "source": [
        "Some tree example"
      ],
      "metadata": {
        "id": "b9WEL8JcZFfY"
      }
    },
    {
      "cell_type": "code",
      "source": [
        "# import pandas as pd\n",
        "\n",
        "# # Create a DataFrame to represent a tree\n",
        "# data = {\n",
        "#     'node': ['A', 'B', 'C', 'D', 'E', 'F'],\n",
        "#     'parent': [None, 'A', 'A', 'B', 'B', 'C']\n",
        "# }\n",
        "# df = pd.DataFrame(data)\n",
        "\n",
        "# print(df)\n"
      ],
      "metadata": {
        "id": "re3_ijh12uCi"
      },
      "execution_count": null,
      "outputs": []
    },
    {
      "cell_type": "code",
      "source": [
        "# pip install networkx\n"
      ],
      "metadata": {
        "id": "4eYXGm0c2yAl"
      },
      "execution_count": null,
      "outputs": []
    },
    {
      "cell_type": "code",
      "source": [
        "# import pandas as pd\n",
        "# import networkx as nx\n",
        "# import matplotlib.pyplot as plt\n",
        "\n",
        "# # Create a DataFrame representing edges in a graph\n",
        "# data = {\n",
        "#     'from': ['A', 'A', 'B', 'C', 'D'],\n",
        "#     'to': ['B', 'C', 'D', 'E', 'E']\n",
        "# }\n",
        "# edges = pd.DataFrame(data)\n",
        "\n",
        "# # Create a graph from the edges DataFrame\n",
        "# G = nx.from_pandas_edgelist(edges, 'from', 'to')\n",
        "\n",
        "# # Draw the graph\n",
        "# nx.draw(G, with_labels=True)\n",
        "# plt.show()\n",
        "\n",
        "# # Analyze the graph\n",
        "# print(\"Nodes:\", G.nodes())\n",
        "# print(\"Edges:\", G.edges())\n",
        "# print(\"Degree for each Node:\", dict(G.degree()))\n"
      ],
      "metadata": {
        "id": "QBd8dZTF224G"
      },
      "execution_count": null,
      "outputs": []
    }
  ]
}